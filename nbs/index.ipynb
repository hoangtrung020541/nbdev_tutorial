{
 "cells": [
  {
   "cell_type": "markdown",
   "metadata": {},
   "source": [
    "# nbdev Tutorial\n",
    "\n",
    "> Một vài hướng dẫn cơ bản cách sử dụng `nbdev` cho AI Engineer\n"
   ]
  },
  {
   "cell_type": "markdown",
   "metadata": {},
   "source": [
    "\n",
    "\n",
    "Để biết thêm chi tiết về cách sử dụng hãy truy cập  [nbdev official tutorial](https://nbdev.fast.ai/) hoặc YouTube video  [nbdev tutorial -- zero to published project in 90 minutes](https://www.youtube.com/watch?v=l7zS8Ld4_iA) \n",
    "\n",
    "[![ ](https://i.ytimg.com/vi/l7zS8Ld4_iA/sddefault.jpg)](https://www.youtube.com/watch?v=l7zS8Ld4_iA)"
   ]
  },
  {
   "cell_type": "markdown",
   "metadata": {},
   "source": [
    " "
   ]
  },
  {
   "cell_type": "markdown",
   "metadata": {},
   "source": [
    "## Why nbdev?"
   ]
  },
  {
   "cell_type": "markdown",
   "metadata": {},
   "source": [
    "Là một AI engineer, bạn chủ yếu làm việc với các file `.ipynb` . Tuy nhiên, trong quá trình triển khai production, các file `.py` là bắt buộc để các model AI có thể hoạt động với Web backend. Tuy nhiên, hầu hết những người mới bắt đầu đều thiếu software skill và khó khăn trong việc code các file Python. Đó là lý do tại sao [nbdev](https://nbdev.fast.ai) ra đời và đến giải cứu bạn.\n",
    "\n",
    "Nbdev là một battery-ready notebook development platform, được xây dựng trên [Quarto](https://quarto.org) platform. Nó cho phép: \\\n",
    "- Đồng bộ giữa file `.ipynb` và file `.py` \\\n",
    "- Tạo nhanh document sử dụng [markdown](https://www.markdownguide.org) (*) trong khi develop \\\n",
    "- Publish package của bạn trên PyPI hoặc Conda \\\n",
    "- [Continuous Integration](https://www.youtube.com/watch?v=8aV5AxJrHDg&list=PLZMWkkQEwOPmGolqJPsAm_4fcBDDc2to_) với git và chạy trên git page \\\n",
    "- Test, code, document ở một nơi\n",
    "\n",
    "(*) Markdown thường được sử dụng trong github repo với tên `readme.md`, để tìm hiểu thêm về Markdown hãy truy cập [Markdown Guide](https://www.markdownguide.org/).\n",
    "\n",
    "![](https://github.blog/wp-content/uploads/2020/11/nbdev_logo11.png?fit=1200%2C630)"
   ]
  }
 ],
 "metadata": {
  "kernelspec": {
   "display_name": "python3",
   "language": "python",
   "name": "python3"
  }
 },
 "nbformat": 4,
 "nbformat_minor": 4
}
